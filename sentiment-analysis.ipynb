{
 "cells": [
  {
   "cell_type": "code",
   "execution_count": 1,
   "id": "6f6751cf",
   "metadata": {
    "execution": {
     "iopub.execute_input": "2023-12-29T12:10:29.918065Z",
     "iopub.status.busy": "2023-12-29T12:10:29.917727Z",
     "iopub.status.idle": "2023-12-29T12:10:29.922778Z",
     "shell.execute_reply": "2023-12-29T12:10:29.921844Z",
     "shell.execute_reply.started": "2023-12-29T12:10:29.918040Z"
    }
   },
   "outputs": [],
   "source": [
    "#!pip install torch transformers\n",
    "import torch\n",
    "from sklearn.metrics import accuracy_score, f1_score\n",
    "from transformers import AutoModelForSequenceClassification, AutoTokenizer\n",
    "import pandas as pd\n"
   ]
  },
  {
   "cell_type": "code",
   "execution_count": 21,
   "id": "c3c99182",
   "metadata": {
    "execution": {
     "iopub.execute_input": "2023-12-28T12:02:09.367677Z",
     "iopub.status.busy": "2023-12-28T12:02:09.366544Z",
     "iopub.status.idle": "2023-12-28T12:02:09.975157Z",
     "shell.execute_reply": "2023-12-28T12:02:09.974299Z",
     "shell.execute_reply.started": "2023-12-28T12:02:09.367640Z"
    }
   },
   "outputs": [],
   "source": [
    "data = pd.read_csv('/kaggle/input/imdb-50k-reviews/IMDB Dataset.csv')"
   ]
  },
  {
   "cell_type": "code",
   "execution_count": 2,
   "id": "2ad618c9",
   "metadata": {
    "execution": {
     "iopub.execute_input": "2023-12-29T12:14:44.050762Z",
     "iopub.status.busy": "2023-12-29T12:14:44.050272Z",
     "iopub.status.idle": "2023-12-29T12:14:44.073979Z",
     "shell.execute_reply": "2023-12-29T12:14:44.073106Z",
     "shell.execute_reply.started": "2023-12-29T12:14:44.050726Z"
    }
   },
   "outputs": [
    {
     "data": {
      "text/plain": [
       "sentiment\n",
       "1    25000\n",
       "0    25000\n",
       "Name: count, dtype: int64"
      ]
     },
     "execution_count": 2,
     "metadata": {},
     "output_type": "execute_result"
    }
   ],
   "source": [
    "data[\"sentiment\"].value_counts()"
   ]
  },
  {
   "cell_type": "code",
   "execution_count": 24,
   "id": "3e1c7d6c",
   "metadata": {
    "execution": {
     "iopub.execute_input": "2023-12-28T12:02:14.561596Z",
     "iopub.status.busy": "2023-12-28T12:02:14.561212Z",
     "iopub.status.idle": "2023-12-28T13:26:50.985341Z",
     "shell.execute_reply": "2023-12-28T13:26:50.984386Z",
     "shell.execute_reply.started": "2023-12-28T12:02:14.561567Z"
    }
   },
   "outputs": [
    {
     "name": "stderr",
     "output_type": "stream",
     "text": [
      "Some weights of DistilBertForSequenceClassification were not initialized from the model checkpoint at distilbert-base-uncased and are newly initialized: ['classifier.weight', 'pre_classifier.bias', 'classifier.bias', 'pre_classifier.weight']\n",
      "You should probably TRAIN this model on a down-stream task to be able to use it for predictions and inference.\n",
      "Epoch 1/5: 100%|██████████| 2000/2000 [13:56<00:00,  2.39it/s]\n",
      "Validation Epoch 1/5: 100%|██████████| 500/500 [01:09<00:00,  7.17it/s]\n"
     ]
    },
    {
     "name": "stdout",
     "output_type": "stream",
     "text": [
      "Epoch 1/5 - Avg. Train Loss: 0.0284 - Avg. Val Loss: 0.1810 - Val Accuracy: 0.9285\n"
     ]
    },
    {
     "name": "stderr",
     "output_type": "stream",
     "text": [
      "Epoch 2/5: 100%|██████████| 2000/2000 [13:56<00:00,  2.39it/s]\n",
      "Validation Epoch 2/5: 100%|██████████| 500/500 [01:09<00:00,  7.17it/s]\n"
     ]
    },
    {
     "name": "stdout",
     "output_type": "stream",
     "text": [
      "Epoch 2/5 - Avg. Train Loss: 0.0404 - Avg. Val Loss: 0.1928 - Val Accuracy: 0.9237\n"
     ]
    },
    {
     "name": "stderr",
     "output_type": "stream",
     "text": [
      "Epoch 3/5: 100%|██████████| 2000/2000 [13:56<00:00,  2.39it/s]\n",
      "Validation Epoch 3/5: 100%|██████████| 500/500 [01:09<00:00,  7.17it/s]\n"
     ]
    },
    {
     "name": "stdout",
     "output_type": "stream",
     "text": [
      "Epoch 3/5 - Avg. Train Loss: 0.0057 - Avg. Val Loss: 0.2113 - Val Accuracy: 0.9286\n"
     ]
    },
    {
     "name": "stderr",
     "output_type": "stream",
     "text": [
      "Epoch 4/5: 100%|██████████| 2000/2000 [13:56<00:00,  2.39it/s]\n",
      "Validation Epoch 4/5: 100%|██████████| 500/500 [01:09<00:00,  7.17it/s]\n"
     ]
    },
    {
     "name": "stdout",
     "output_type": "stream",
     "text": [
      "Epoch 4/5 - Avg. Train Loss: 0.0036 - Avg. Val Loss: 0.2535 - Val Accuracy: 0.9229\n"
     ]
    },
    {
     "name": "stderr",
     "output_type": "stream",
     "text": [
      "Epoch 5/5: 100%|██████████| 2000/2000 [13:56<00:00,  2.39it/s]\n",
      "Validation Epoch 5/5: 100%|██████████| 500/500 [01:09<00:00,  7.17it/s]\n"
     ]
    },
    {
     "name": "stdout",
     "output_type": "stream",
     "text": [
      "Epoch 5/5 - Avg. Train Loss: 0.0018 - Avg. Val Loss: 0.2537 - Val Accuracy: 0.9286\n"
     ]
    },
    {
     "name": "stderr",
     "output_type": "stream",
     "text": [
      "Testing: 100%|██████████| 625/625 [01:27<00:00,  7.18it/s]"
     ]
    },
    {
     "name": "stdout",
     "output_type": "stream",
     "text": [
      "Test Results - Avg. Test Loss: 0.2437 - Test Accuracy: 0.9278\n"
     ]
    },
    {
     "name": "stderr",
     "output_type": "stream",
     "text": [
      "\n"
     ]
    }
   ],
   "source": [
    "from transformers import DistilBertTokenizer, DistilBertForSequenceClassification\n",
    "from torch.utils.data import DataLoader, Dataset\n",
    "from sklearn.model_selection import train_test_split\n",
    "from torch.optim import AdamW\n",
    "import torch\n",
    "from tqdm import tqdm\n",
    "\n",
    "start_time = time.time()\n",
    "\n",
    "# Load data\n",
    "data['sentiment'] = data['sentiment'].map({'positive': 1, 'negative': 0})\n",
    "reviews = data['review'].tolist()\n",
    "labels = data['sentiment'].tolist()  \n",
    "\n",
    "\n",
    "# Split the data into train, validation, and test sets\n",
    "train_texts, test_texts, train_labels, test_labels = train_test_split(reviews, labels, test_size=0.2, random_state=42)\n",
    "train_texts, val_texts, train_labels, val_labels = train_test_split(train_texts, train_labels, test_size=0.2, random_state=42)\n",
    "\n",
    "# Initialize tokenizer and model\n",
    "tokenizer = DistilBertTokenizer.from_pretrained('distilbert-base-uncased')\n",
    "model = DistilBertForSequenceClassification.from_pretrained('distilbert-base-uncased', num_labels=2)\n",
    "\n",
    "# Tokenize data\n",
    "train_encodings = tokenizer(train_texts, truncation=True, padding=True, max_length=512, return_tensors='pt')\n",
    "val_encodings = tokenizer(val_texts, truncation=True, padding=True, max_length=512, return_tensors='pt')\n",
    "test_encodings = tokenizer(test_texts, truncation=True, padding=True, max_length=512, return_tensors='pt')\n",
    "\n",
    "# Create torch datasets\n",
    "class ReviewDataset(Dataset):\n",
    "    def __init__(self, encodings, labels):\n",
    "        self.encodings = encodings\n",
    "        self.labels = labels\n",
    "\n",
    "    def __getitem__(self, idx):\n",
    "        item = {key: val[idx] for key, val in self.encodings.items()}\n",
    "        item['labels'] = torch.tensor(int(self.labels[idx]))\n",
    "        return item\n",
    "\n",
    "    def __len__(self):\n",
    "        return len(self.labels)\n",
    "\n",
    "train_dataset = ReviewDataset(train_encodings, train_labels)\n",
    "val_dataset = ReviewDataset(val_encodings, val_labels)\n",
    "test_dataset = ReviewDataset(test_encodings, test_labels)\n",
    "\n",
    "# Create dataloaders\n",
    "train_loader = DataLoader(train_dataset, batch_size=16, shuffle=True)\n",
    "val_loader = DataLoader(val_dataset, batch_size=16, shuffle=False)\n",
    "test_loader = DataLoader(test_dataset, batch_size=16, shuffle=False)\n",
    "\n",
    "# Move the model to the device (GPU if available)\n",
    "device = torch.device(\"cuda\" if torch.cuda.is_available() else \"cpu\")\n",
    "model.to(device)\n",
    "\n",
    "# Initialize optimizer\n",
    "optimizer = AdamW(model.parameters(), lr=1e-5)\n",
    "\n",
    "# Training loop\n",
    "num_epochs = 5\n",
    "for epoch in range(num_epochs):\n",
    "    model.train()\n",
    "    for batch in tqdm(train_loader, desc=f'Epoch {epoch + 1}/{num_epochs}'):\n",
    "        optimizer.zero_grad()\n",
    "        input_ids = batch['input_ids'].to(device)\n",
    "        attention_mask = batch['attention_mask'].to(device)\n",
    "        labels = batch['labels'].to(device)\n",
    "        outputs = model(input_ids, attention_mask=attention_mask, labels=labels)\n",
    "        loss = outputs.loss\n",
    "        loss.backward()\n",
    "        optimizer.step()\n",
    "\n",
    "    # Validation\n",
    "    model.eval()\n",
    "    val_loss = 0.0\n",
    "    correct_predictions = 0\n",
    "    total_samples = 0\n",
    "    with torch.no_grad():\n",
    "        for batch in tqdm(val_loader, desc=f'Validation Epoch {epoch + 1}/{num_epochs}'):\n",
    "            input_ids = batch['input_ids'].to(device)\n",
    "            attention_mask = batch['attention_mask'].to(device)\n",
    "            labels = batch['labels'].to(device)\n",
    "            outputs = model(input_ids, attention_mask=attention_mask, labels=labels)\n",
    "            loss = outputs.loss\n",
    "            val_loss += loss.item()\n",
    "\n",
    "            logits = outputs.logits\n",
    "            predicted_labels = torch.argmax(logits, dim=1)\n",
    "            correct_predictions += (predicted_labels == labels).sum().item()\n",
    "            total_samples += labels.size(0)\n",
    "\n",
    "    avg_val_loss = val_loss / len(val_loader)\n",
    "    accuracy = correct_predictions / total_samples\n",
    "\n",
    "    print(f'Epoch {epoch + 1}/{num_epochs} - Avg. Train Loss: {loss.item():.4f} - Avg. Val Loss: {avg_val_loss:.4f} - Val Accuracy: {accuracy:.4f}')\n",
    "\n",
    "# Testing\n",
    "model.eval()\n",
    "test_loss = 0.0\n",
    "correct_predictions = 0\n",
    "total_samples = 0\n",
    "with torch.no_grad():\n",
    "    for batch in tqdm(test_loader, desc=f'Testing'):\n",
    "        input_ids = batch['input_ids'].to(device)\n",
    "        attention_mask = batch['attention_mask'].to(device)\n",
    "        labels = batch['labels'].to(device)\n",
    "        outputs = model(input_ids, attention_mask=attention_mask, labels=labels)\n",
    "        loss = outputs.loss\n",
    "        test_loss += loss.item()\n",
    "\n",
    "        logits = outputs.logits\n",
    "        predicted_labels = torch.argmax(logits, dim=1)\n",
    "        correct_predictions += (predicted_labels == labels).sum().item()\n",
    "        total_samples += labels.size(0)\n",
    "\n",
    "avg_test_loss = test_loss / len(test_loader)\n",
    "accuracy = correct_predictions / total_samples\n",
    "\n",
    "print(f'Test Results - Avg. Test Loss: {avg_test_loss:.4f} - Test Accuracy: {accuracy:.4f}')\n"
   ]
  },
  {
   "cell_type": "code",
   "execution_count": 19,
   "id": "a2dbb489",
   "metadata": {
    "execution": {
     "iopub.execute_input": "2023-12-28T12:02:03.918857Z",
     "iopub.status.busy": "2023-12-28T12:02:03.917929Z",
     "iopub.status.idle": "2023-12-28T12:02:04.050570Z",
     "shell.execute_reply": "2023-12-28T12:02:04.049402Z",
     "shell.execute_reply.started": "2023-12-28T12:02:03.918822Z"
    }
   },
   "outputs": [],
   "source": [
    "torch.cuda.empty_cache()\n"
   ]
  },
  {
   "cell_type": "code",
   "execution_count": 26,
   "id": "d0ed081f",
   "metadata": {
    "execution": {
     "iopub.execute_input": "2023-12-28T13:28:38.167752Z",
     "iopub.status.busy": "2023-12-28T13:28:38.167384Z",
     "iopub.status.idle": "2023-12-28T13:28:38.173835Z",
     "shell.execute_reply": "2023-12-28T13:28:38.172909Z",
     "shell.execute_reply.started": "2023-12-28T13:28:38.167719Z"
    }
   },
   "outputs": [
    {
     "data": {
      "text/plain": [
       "torch.Size([16])"
      ]
     },
     "execution_count": 26,
     "metadata": {},
     "output_type": "execute_result"
    }
   ],
   "source": [
    "labels.shape"
   ]
  },
  {
   "cell_type": "code",
   "execution_count": 25,
   "id": "0dab0c81",
   "metadata": {
    "execution": {
     "iopub.execute_input": "2023-12-28T13:27:15.905193Z",
     "iopub.status.busy": "2023-12-28T13:27:15.904788Z",
     "iopub.status.idle": "2023-12-28T13:27:16.326868Z",
     "shell.execute_reply": "2023-12-28T13:27:16.326061Z",
     "shell.execute_reply.started": "2023-12-28T13:27:15.905163Z"
    }
   },
   "outputs": [],
   "source": [
    "# Save the entire model state dictionary\n",
    "torch.save(model.state_dict(), 'sentiment_model_DistilBERT/modelooo.pth')\n"
   ]
  },
  {
   "cell_type": "code",
   "execution_count": null,
   "id": "46b073ec",
   "metadata": {},
   "outputs": [],
   "source": []
  },
  {
   "cell_type": "markdown",
   "id": "a4b3cd99",
   "metadata": {},
   "source": [
    "## Model Evaluation on our Barbie data"
   ]
  },
  {
   "cell_type": "markdown",
   "id": "db6fbe4a",
   "metadata": {},
   "source": [
    "The data is not balanced so we did some undersampling"
   ]
  },
  {
   "cell_type": "code",
   "execution_count": 3,
   "id": "e4cf74df",
   "metadata": {
    "execution": {
     "iopub.execute_input": "2023-12-29T12:14:50.418015Z",
     "iopub.status.busy": "2023-12-29T12:14:50.417052Z",
     "iopub.status.idle": "2023-12-29T12:14:50.458161Z",
     "shell.execute_reply": "2023-12-29T12:14:50.457096Z",
     "shell.execute_reply.started": "2023-12-29T12:14:50.417980Z"
    }
   },
   "outputs": [
    {
     "data": {
      "text/plain": [
       "Sentiment\n",
       "1    997\n",
       "0    163\n",
       "Name: count, dtype: int64"
      ]
     },
     "execution_count": 3,
     "metadata": {},
     "output_type": "execute_result"
    }
   ],
   "source": [
    "val_data = pd.read_csv('/kaggle/input/imdb-val/imdb_val.csv')\n",
    "val_data[\"Sentiment\"].value_counts()"
   ]
  },
  {
   "cell_type": "code",
   "execution_count": 4,
   "id": "de693463",
   "metadata": {
    "execution": {
     "iopub.execute_input": "2023-12-29T12:14:52.949067Z",
     "iopub.status.busy": "2023-12-29T12:14:52.948124Z",
     "iopub.status.idle": "2023-12-29T12:14:52.961994Z",
     "shell.execute_reply": "2023-12-29T12:14:52.961096Z",
     "shell.execute_reply.started": "2023-12-29T12:14:52.949031Z"
    }
   },
   "outputs": [],
   "source": [
    "import numpy as np\n",
    "import pandas as pd\n",
    "\n",
    "majority_class_indices = val_data[val_data['Sentiment'] == 1].index\n",
    "\n",
    "# Randomly select a subset of indices to drop\n",
    "drop_indices = np.random.choice(majority_class_indices, size=(997-163), replace=False)\n",
    "\n",
    "# Drop the selected samples from the majority class\n",
    "val_data = val_data.drop(drop_indices)\n"
   ]
  },
  {
   "cell_type": "code",
   "execution_count": 6,
   "id": "9fa1d795",
   "metadata": {
    "execution": {
     "iopub.execute_input": "2023-12-29T12:16:14.882224Z",
     "iopub.status.busy": "2023-12-29T12:16:14.881841Z",
     "iopub.status.idle": "2023-12-29T12:16:15.790668Z",
     "shell.execute_reply": "2023-12-29T12:16:15.789723Z",
     "shell.execute_reply.started": "2023-12-29T12:16:14.882198Z"
    }
   },
   "outputs": [
    {
     "name": "stderr",
     "output_type": "stream",
     "text": [
      "Some weights of DistilBertForSequenceClassification were not initialized from the model checkpoint at /kaggle/input/distilbert-base-uncased/distilbert-base-uncased and are newly initialized: ['classifier.bias', 'pre_classifier.weight', 'classifier.weight', 'pre_classifier.bias']\n",
      "You should probably TRAIN this model on a down-stream task to be able to use it for predictions and inference.\n"
     ]
    }
   ],
   "source": [
    "# Initialize a new model instance\n",
    "new_model = DistilBertForSequenceClassification.from_pretrained('/kaggle/input/distilbert-base-uncased/distilbert-base-uncased', num_labels=2)\n",
    "\n",
    "\n",
    "# Load the saved state dictionary\n",
    "new_model.load_state_dict(torch.load('/kaggle/working/sentiment_model_DistilBERT/modelooo.pth'))\n",
    "\n",
    "tokenizer = DistilBertTokenizer.from_pretrained('/kaggle/input/distilbert-base-uncased/distilbert-base-uncased')\n"
   ]
  },
  {
   "cell_type": "code",
   "execution_count": 8,
   "id": "e583da02",
   "metadata": {
    "execution": {
     "iopub.execute_input": "2023-12-29T12:16:59.542132Z",
     "iopub.status.busy": "2023-12-29T12:16:59.541497Z",
     "iopub.status.idle": "2023-12-29T12:17:03.423829Z",
     "shell.execute_reply": "2023-12-29T12:17:03.422921Z",
     "shell.execute_reply.started": "2023-12-29T12:16:59.542100Z"
    }
   },
   "outputs": [
    {
     "name": "stdout",
     "output_type": "stream",
     "text": [
      "Accuracy: 0.8098159509202454\n",
      "F1-score: 0.8176470588235294\n",
      "Confusion matrix:\n",
      " [[125  38]\n",
      " [ 24 139]]\n"
     ]
    }
   ],
   "source": [
    "from sklearn.metrics import accuracy_score, f1_score, confusion_matrix\n",
    "from transformers import RobertaTokenizerFast, RobertaForSequenceClassification\n",
    "from torch.utils.data import DataLoader, Dataset\n",
    "import pandas as pd\n",
    "import torch\n",
    "from transformers import DistilBertTokenizer, DistilBertForSequenceClassification\n",
    "val_texts = val_data['Review'].tolist()\n",
    "val_labels = val_data['Sentiment'].tolist()  # convert sentiment to numeric\n",
    "\n",
    "# Tokenize data\n",
    "val_encodings = tokenizer(val_texts, truncation=True, padding=True, max_length=512)\n",
    "\n",
    "# Create torch dataset for validation\n",
    "class ReviewDataset(Dataset):\n",
    "    def __init__(self, encodings, labels):\n",
    "        self.encodings = encodings\n",
    "        self.labels = labels\n",
    "\n",
    "    def __getitem__(self, idx):\n",
    "        item = {key: torch.tensor(val[idx]) for key, val in self.encodings.items()}\n",
    "        item['labels'] = torch.tensor(int(self.labels[idx]))\n",
    "        return item\n",
    "\n",
    "    def __len__(self):\n",
    "        return len(self.labels)\n",
    "\n",
    "val_dataset = ReviewDataset(val_encodings, val_labels)\n",
    "val_loader = DataLoader(val_dataset, batch_size=16, shuffle=False)\n",
    "new_model.eval()\n",
    "new_model.to('cuda')\n",
    "\n",
    "predictions = []\n",
    "true_labels = []\n",
    "for batch in val_loader:\n",
    "    input_ids = batch['input_ids'].to('cuda')\n",
    "    attention_mask = batch['attention_mask'].to('cuda')\n",
    "    labels = batch['labels'].to('cuda')\n",
    "\n",
    "    with torch.no_grad():\n",
    "        outputs = new_model(input_ids, attention_mask=attention_mask)\n",
    "\n",
    "    logits = outputs.logits\n",
    "    predicted_labels = torch.argmax(logits, dim=1).cpu().numpy()\n",
    "    predictions.extend(predicted_labels)\n",
    "    true_labels.extend(labels.cpu().numpy())\n",
    "\n",
    "# Calculate metrics\n",
    "accuracy = accuracy_score(true_labels, predictions)\n",
    "f1 = f1_score(true_labels, predictions)\n",
    "conf_matrix = confusion_matrix(true_labels, predictions)\n",
    "\n",
    "print(f'Accuracy: {accuracy}')\n",
    "print(f'F1-score: {f1}')\n",
    "print(f'Confusion matrix:\\n {conf_matrix}')"
   ]
  },
  {
   "cell_type": "code",
   "execution_count": 10,
   "id": "3dec9695",
   "metadata": {
    "execution": {
     "iopub.execute_input": "2023-12-29T12:21:27.809610Z",
     "iopub.status.busy": "2023-12-29T12:21:27.809267Z",
     "iopub.status.idle": "2023-12-29T12:21:28.195200Z",
     "shell.execute_reply": "2023-12-29T12:21:28.194288Z",
     "shell.execute_reply.started": "2023-12-29T12:21:27.809583Z"
    }
   },
   "outputs": [
    {
     "data": {
      "image/png": "[encoded data removed]",
      "text/plain": [
       "<Figure size 800x600 with 2 Axes>"
      ]
     },
     "metadata": {},
     "output_type": "display_data"
    }
   ],
   "source": [
    "import matplotlib.pyplot as plt\n",
    "import seaborn as sns\n",
    "\n",
    "plt.figure(figsize=(8, 6))\n",
    "sns.heatmap(conf_matrix, annot=True, fmt=\"d\", cmap=\"Blues\", xticklabels=[\"Negative\", \"Positive\"], yticklabels=[\"Negative\", \"Positive\"])\n",
    "plt.title(\"Confusion Matrix\")\n",
    "plt.xlabel(\"Predicted\")\n",
    "plt.ylabel(\"True\")\n",
    "plt.show()"
   ]
  },
  {
   "cell_type": "markdown",
   "id": "5466182e",
   "metadata": {},
   "source": [
    "The model seems to be performing reasonably well with a high accuracy and F1-score"
   ]
  }
 ],
 "metadata": {
  "kaggle": {
   "accelerator": "gpu",
   "dataSources": [
    {
     "datasetId": 4146783,
     "sourceId": 7175955,
     "sourceType": "datasetVersion"
    },
    {
     "datasetId": 4153101,
     "sourceId": 7184403,
     "sourceType": "datasetVersion"
    },
    {
     "datasetId": 4229703,
     "sourceId": 7292694,
     "sourceType": "datasetVersion"
    }
   ],
   "dockerImageVersionId": 30617,
   "isGpuEnabled": true,
   "isInternetEnabled": true,
   "language": "python",
   "sourceType": "notebook"
  },
  "kernelspec": {
   "display_name": "Python 3 (ipykernel)",
   "language": "python",
   "name": "python3"
  },
  "language_info": {
   "codemirror_mode": {
    "name": "ipython",
    "version": 3
   },
   "file_extension": ".py",
   "mimetype": "text/x-python",
   "name": "python",
   "nbconvert_exporter": "python",
   "pygments_lexer": "ipython3",
   "version": "3.9.13"
  }
 },
 "nbformat": 4,
 "nbformat_minor": 5
}
